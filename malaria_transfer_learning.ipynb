{
  "nbformat": 4,
  "nbformat_minor": 0,
  "metadata": {
    "accelerator": "GPU",
    "colab": {
      "name": "Copy of transfer_learning.ipynb",
      "provenance": [],
      "private_outputs": true,
      "collapsed_sections": [],
      "toc_visible": true,
      "machine_shape": "hm"
    },
    "kernelspec": {
      "display_name": "Python 3",
      "name": "python3"
    }
  },
  "cells": [
    {
      "cell_type": "markdown",
      "metadata": {
        "colab_type": "text",
        "id": "hRTa3Ee15WsJ"
      },
      "source": [
        "# Transfer learning malaria dataset with a pretrained CNN"
      ]
    },
    {
      "cell_type": "code",
      "metadata": {
        "colab_type": "code",
        "id": "iBMcobPHdD8O",
        "colab": {}
      },
      "source": [
        "from __future__ import absolute_import, division, print_function, unicode_literals\n",
        "\n",
        "import os\n",
        "\n",
        "import numpy as np\n",
        "import pandas as pd\n",
        "import matplotlib.pyplot as plt\n",
        "import seaborn as sns"
      ],
      "execution_count": 0,
      "outputs": []
    },
    {
      "cell_type": "code",
      "metadata": {
        "colab_type": "code",
        "id": "TqOt6Sv7AsMi",
        "colab": {}
      },
      "source": [
        "try:\n",
        "  # %tensorflow_version only exists in Colab.\n",
        "  %tensorflow_version 2.x\n",
        "except Exception:\n",
        "  pass\n",
        "import tensorflow as tf\n",
        "keras = tf.keras\n",
        "tf.executing_eagerly()"
      ],
      "execution_count": 0,
      "outputs": []
    },
    {
      "cell_type": "markdown",
      "metadata": {
        "colab_type": "text",
        "id": "0GoKGm1duzgk"
      },
      "source": [
        "### Data download"
      ]
    },
    {
      "cell_type": "code",
      "metadata": {
        "colab_type": "code",
        "id": "KVh7rDVAuW8Y",
        "colab": {}
      },
      "source": [
        "import tensorflow_datasets as tfds\n",
        "tfds.disable_progress_bar()"
      ],
      "execution_count": 0,
      "outputs": []
    },
    {
      "cell_type": "markdown",
      "metadata": {
        "id": "-KY1MGKLE2TR",
        "colab_type": "text"
      },
      "source": [
        "###Import malaria dataset from TensorFlow datasets\n"
      ]
    },
    {
      "cell_type": "code",
      "metadata": {
        "colab_type": "code",
        "id": "ro4oYaEmxe4r",
        "colab": {}
      },
      "source": [
        "(raw_train,raw_test, raw_validation), info = tfds.load(\n",
        "    'malaria',\n",
        "    split=['train[:80%]', 'train[80%:99%]', 'train[99%:]'],\n",
        "    with_info=True,\n",
        "    as_supervised=True,\n",
        ")"
      ],
      "execution_count": 0,
      "outputs": []
    },
    {
      "cell_type": "code",
      "metadata": {
        "id": "Z_71_Z8ZwZbK",
        "colab_type": "code",
        "colab": {}
      },
      "source": [
        "info"
      ],
      "execution_count": 0,
      "outputs": []
    },
    {
      "cell_type": "code",
      "metadata": {
        "id": "t1oteFoHgbFa",
        "colab_type": "code",
        "colab": {}
      },
      "source": [
        ""
      ],
      "execution_count": 0,
      "outputs": []
    },
    {
      "cell_type": "code",
      "metadata": {
        "id": "L9j_xF0gh2zt",
        "colab_type": "code",
        "colab": {}
      },
      "source": [
        "print('Train dataset  size : ',len(list(raw_train)))\n",
        "print('Test dataset size : ',len(list(raw_test)))\n",
        "print('Validation dataset size : ',len(list(raw_validation)))"
      ],
      "execution_count": 0,
      "outputs": []
    },
    {
      "cell_type": "markdown",
      "metadata": {
        "colab_type": "text",
        "id": "o29EfE-p0g5X"
      },
      "source": [
        "### Check train, validation and test datasets shapes "
      ]
    },
    {
      "cell_type": "code",
      "metadata": {
        "colab_type": "code",
        "id": "GIys1_zY1S9b",
        "colab": {}
      },
      "source": [
        "print(\"train dataset shape  : \", raw_train)\n",
        "print(\"validation dataset shape : \",raw_validation)\n",
        "print(\"test dataset shape  : \",raw_test)"
      ],
      "execution_count": 0,
      "outputs": []
    },
    {
      "cell_type": "markdown",
      "metadata": {
        "id": "MATVMhz9OPEH",
        "colab_type": "text"
      },
      "source": [
        "### Show sample infected and uninfected images "
      ]
    },
    {
      "cell_type": "code",
      "metadata": {
        "id": "E4BRuNCQGFMb",
        "colab_type": "code",
        "colab": {}
      },
      "source": [
        "get_label_name = info.features['label'].int2str\n",
        "fig=plt.figure(figsize=(15, 15))\n",
        "columns = 5\n",
        "rows = 5\n",
        "i=0\n",
        "for image, label in raw_train.take(25):\n",
        "  fig.add_subplot(rows, columns, i+1)\n",
        "  plt.imshow(image)\n",
        "  plt.title(get_label_name(label))\n",
        "  i+=1\n",
        "plt.show()"
      ],
      "execution_count": 0,
      "outputs": []
    },
    {
      "cell_type": "markdown",
      "metadata": {
        "id": "D8vICxCjTI54",
        "colab_type": "text"
      },
      "source": [
        "### Get image shape"
      ]
    },
    {
      "cell_type": "code",
      "metadata": {
        "id": "QFwRk2MMTUM5",
        "colab_type": "code",
        "colab": {}
      },
      "source": [
        "for image, label in raw_train.take(1):\n",
        "  pass\n",
        "image.shape"
      ],
      "execution_count": 0,
      "outputs": []
    },
    {
      "cell_type": "markdown",
      "metadata": {
        "id": "r3F8nfS6TR5R",
        "colab_type": "text"
      },
      "source": [
        ""
      ]
    },
    {
      "cell_type": "markdown",
      "metadata": {
        "colab_type": "text",
        "id": "wvidPx6jeFzf"
      },
      "source": [
        "###  Resize the images to a fixed input size, and rescale the input channels to a range of `[-1,1]`\n"
      ]
    },
    {
      "cell_type": "code",
      "metadata": {
        "colab_type": "code",
        "id": "y3PM6GVHcC31",
        "colab": {}
      },
      "source": [
        "IMG_SIZE = 128 # keep the image size to comply with pre-trained models\n",
        "\n",
        "def format(image, label):\n",
        "  image = tf.cast(image, tf.float32)\n",
        "  image = (image/255)\n",
        "  image = tf.image.resize(image, (IMG_SIZE, IMG_SIZE))\n",
        "  return image, label"
      ],
      "execution_count": 0,
      "outputs": []
    },
    {
      "cell_type": "code",
      "metadata": {
        "id": "1oXkMix2Uz6u",
        "colab_type": "code",
        "colab": {}
      },
      "source": [
        "def show_conf_matrix(con_mat):\n",
        "  con_mat_norm = np.around(con_mat.astype('float') / con_mat.sum(axis=1)[:, np.newaxis], decimals=2)\n",
        "  figure = plt.figure(figsize=(8, 8))\n",
        "  sns.heatmap(con_mat_norm, annot=True,cmap=plt.cm.Blues)\n",
        "  plt.tight_layout()\n",
        "  plt.ylabel('True label')\n",
        "  plt.xlabel('Predicted label')\n",
        "  plt.show()"
      ],
      "execution_count": 0,
      "outputs": []
    },
    {
      "cell_type": "markdown",
      "metadata": {
        "colab_type": "text",
        "id": "i2MRh_AeBtOM"
      },
      "source": [
        "Apply this function to each item in the dataset using the map method:"
      ]
    },
    {
      "cell_type": "code",
      "metadata": {
        "colab_type": "code",
        "id": "SFZ6ZW7KSXP9",
        "colab": {}
      },
      "source": [
        "train = raw_train.map(format)\n",
        "validation = raw_validation.map(format)\n",
        "test = raw_test.map(format)"
      ],
      "execution_count": 0,
      "outputs": []
    },
    {
      "cell_type": "markdown",
      "metadata": {
        "colab_type": "text",
        "id": "E5ifgXDuBfOC"
      },
      "source": [
        "Now shuffle and batch the data."
      ]
    },
    {
      "cell_type": "code",
      "metadata": {
        "colab_type": "code",
        "id": "Yic-I66m6Isv",
        "colab": {}
      },
      "source": [
        "BATCH_SIZE = 32\n",
        "SHUFFLE_BUFFER_SIZE = 10000"
      ],
      "execution_count": 0,
      "outputs": []
    },
    {
      "cell_type": "code",
      "metadata": {
        "id": "rHv9Qq65QrOi",
        "colab_type": "code",
        "colab": {}
      },
      "source": [
        ""
      ],
      "execution_count": 0,
      "outputs": []
    },
    {
      "cell_type": "code",
      "metadata": {
        "colab_type": "code",
        "id": "p3UUPdm86LNC",
        "colab": {}
      },
      "source": [
        "train_batches = train.shuffle(SHUFFLE_BUFFER_SIZE).batch(BATCH_SIZE)\n",
        "validation_batches = validation.batch(BATCH_SIZE)\n",
        "test_batches = test.batch(BATCH_SIZE)"
      ],
      "execution_count": 0,
      "outputs": []
    },
    {
      "cell_type": "markdown",
      "metadata": {
        "colab_type": "text",
        "id": "02rJpcFtChP0"
      },
      "source": [
        "#### Check one batch "
      ]
    },
    {
      "cell_type": "code",
      "metadata": {
        "colab_type": "code",
        "id": "iknFo3ELBVho",
        "colab": {}
      },
      "source": [
        "for image_batch, label_batch in train_batches.take(1):\n",
        "   pass\n",
        "\n",
        "image_batch.shape"
      ],
      "execution_count": 0,
      "outputs": []
    },
    {
      "cell_type": "markdown",
      "metadata": {
        "id": "aW-Zn4J4Uzbo",
        "colab_type": "text"
      },
      "source": [
        "## Begin pre-trained base model "
      ]
    },
    {
      "cell_type": "markdown",
      "metadata": {
        "id": "TUIdu9VKY-TS",
        "colab_type": "text"
      },
      "source": [
        "### Get first results from simple CNN"
      ]
    },
    {
      "cell_type": "code",
      "metadata": {
        "id": "CYoGNQKJZGv9",
        "colab_type": "code",
        "colab": {}
      },
      "source": [
        "from tensorflow.keras import datasets, layers, models\n",
        "model = models.Sequential()\n",
        "model.add(layers.Conv2D(32, (3, 3), activation='relu', input_shape=(128, 128, 3)))\n",
        "model.add(layers.MaxPooling2D((2, 2)))\n",
        "model.add(layers.Conv2D(32, (3, 3), activation='relu'))\n",
        "model.add(layers.MaxPooling2D((2, 2)))\n",
        "model.add(layers.Flatten())\n",
        "model.add(layers.Dropout(0.2))\n",
        "model.add(layers.Dense(512))\n",
        "model.add(layers.Dropout(0.2))\n",
        "model.add(layers.Dense(1))\n",
        "model.summary()"
      ],
      "execution_count": 0,
      "outputs": []
    },
    {
      "cell_type": "code",
      "metadata": {
        "id": "blJ87-sFcjcB",
        "colab_type": "code",
        "colab": {}
      },
      "source": [
        "base_learning_rate = 0.0001\n",
        "model.compile(optimizer=tf.keras.optimizers.RMSprop(lr=base_learning_rate),\n",
        "              loss=tf.keras.losses.BinaryCrossentropy(from_logits=True),\n",
        "              metrics=['accuracy'])"
      ],
      "execution_count": 0,
      "outputs": []
    },
    {
      "cell_type": "code",
      "metadata": {
        "id": "aE8v3z2tl1WD",
        "colab_type": "code",
        "colab": {}
      },
      "source": [
        "def show_performance(history):\n",
        "    acc = history.history['accuracy']\n",
        "    val_acc = history.history['val_accuracy']\n",
        "\n",
        "    loss = history.history['loss']\n",
        "    val_loss = history.history['val_loss']\n",
        "\n",
        "    plt.figure(figsize=(8, 8))\n",
        "    plt.subplot(2, 1, 1)\n",
        "    plt.plot(acc, label='Training Accuracy')\n",
        "    plt.plot(val_acc, label='Validation Accuracy')\n",
        "    plt.legend(loc='lower right')\n",
        "    plt.ylabel('Accuracy')\n",
        "    plt.ylim([min(plt.ylim()),1])\n",
        "    plt.title('Training and Validation Accuracy')\n",
        "\n",
        "    plt.subplot(2, 1, 2)\n",
        "    plt.plot(loss, label='Training Loss')\n",
        "    plt.plot(val_loss, label='Validation Loss')\n",
        "    plt.legend(loc='upper right')\n",
        "    plt.ylabel('Cross Entropy')\n",
        "    plt.ylim([0,1.0])\n",
        "    plt.title('Training and Validation Loss')\n",
        "    plt.xlabel('epoch')\n",
        "    plt.show()"
      ],
      "execution_count": 0,
      "outputs": []
    },
    {
      "cell_type": "code",
      "metadata": {
        "id": "hS_v9GwnkDdn",
        "colab_type": "code",
        "colab": {}
      },
      "source": [
        "history = model.fit(train_batches,\n",
        "                    epochs=40,\n",
        "                    validation_data=test_batches)"
      ],
      "execution_count": 0,
      "outputs": []
    },
    {
      "cell_type": "code",
      "metadata": {
        "id": "F3u049ChE7Mu",
        "colab_type": "code",
        "colab": {}
      },
      "source": [
        "model.evaluate(validation_batches, steps = 20)"
      ],
      "execution_count": 0,
      "outputs": []
    },
    {
      "cell_type": "code",
      "metadata": {
        "id": "EKrqEKKqmkSn",
        "colab_type": "code",
        "colab": {}
      },
      "source": [
        "show_performance(history)"
      ],
      "execution_count": 0,
      "outputs": []
    },
    {
      "cell_type": "code",
      "metadata": {
        "id": "9JI-7DLnTsBk",
        "colab_type": "code",
        "colab": {}
      },
      "source": [
        "model.save('base_model.h5')"
      ],
      "execution_count": 0,
      "outputs": []
    },
    {
      "cell_type": "code",
      "metadata": {
        "id": "j7tEmTBDUC4T",
        "colab_type": "code",
        "colab": {}
      },
      "source": [
        "def show_maps(model,img,ixs): \n",
        "  outputs = [model.layers[i].output for i in ixs]\n",
        "  model = tf.compat.v1.keras.Model(inputs=model.inputs, outputs=outputs)\n",
        "  feature_maps = model.predict(img)\n",
        "  ix = 1\n",
        "  # plot the output from each block\n",
        "  square = 5\n",
        "  for fmap in feature_maps:\n",
        "    # plot all 64 maps in an 8x8 squares\n",
        "    ix = 1\n",
        "    for _ in range(square):\n",
        "      for _ in range(square):\n",
        "        # specify subplot and turn of axis\n",
        "        ax = plt.subplot(square, square, ix)\n",
        "        ax.set_xticks([])\n",
        "        ax.set_yticks([])\n",
        "        # plot filter channel in grayscale\n",
        "        plt.imshow(fmap[0, :, :, ix-1])\n",
        "        ix += 1\n",
        "    # show the figure\n",
        "    plt.show()"
      ],
      "execution_count": 0,
      "outputs": []
    },
    {
      "cell_type": "code",
      "metadata": {
        "id": "NFuRDaZxUKnU",
        "colab_type": "code",
        "colab": {}
      },
      "source": [
        "from numpy import expand_dims\n",
        "for image,label in test.shuffle(1000).take(1):\n",
        "    pass\n",
        "img = expand_dims(image, axis=0)    \n",
        "print(img.shape)\n",
        "show_maps(model,img, [1,3])"
      ],
      "execution_count": 0,
      "outputs": []
    },
    {
      "cell_type": "code",
      "metadata": {
        "id": "dPs6s1xBTvHC",
        "colab_type": "code",
        "colab": {}
      },
      "source": [
        "import os\n",
        "os.path.getsize('base_model.h5')/(1024*1024)"
      ],
      "execution_count": 0,
      "outputs": []
    },
    {
      "cell_type": "markdown",
      "metadata": {
        "id": "cNqNM6xsVHc0",
        "colab_type": "text"
      },
      "source": [
        "### Load MobileNet model"
      ]
    },
    {
      "cell_type": "code",
      "metadata": {
        "colab_type": "code",
        "id": "19IQ2gqneqmS",
        "colab": {}
      },
      "source": [
        "\n",
        "IMG_SHAPE = (IMG_SIZE, IMG_SIZE, 3)\n",
        "\n",
        "# Create the base model from the pre-trained model MobileNet\n",
        "base_model = tf.keras.applications.MobileNet(input_shape=IMG_SHAPE,\n",
        "                                               include_top=False,\n",
        "                                               weights='imagenet')"
      ],
      "execution_count": 0,
      "outputs": []
    },
    {
      "cell_type": "markdown",
      "metadata": {
        "id": "KUWEgjyMVutO",
        "colab_type": "text"
      },
      "source": [
        "#### Show base model architecture"
      ]
    },
    {
      "cell_type": "code",
      "metadata": {
        "id": "w40N3IsnV3ji",
        "colab_type": "code",
        "colab": {}
      },
      "source": [
        "base_model.summary()"
      ],
      "execution_count": 0,
      "outputs": []
    },
    {
      "cell_type": "markdown",
      "metadata": {
        "colab_type": "text",
        "id": "AqcsxoJIEVXZ"
      },
      "source": [
        "#### Inspect features size extracted from example batch "
      ]
    },
    {
      "cell_type": "code",
      "metadata": {
        "colab_type": "code",
        "id": "Y-2LJL0EEUcx",
        "colab": {}
      },
      "source": [
        "feature_batch = base_model(image_batch)\n",
        "print(feature_batch.shape)"
      ],
      "execution_count": 0,
      "outputs": []
    },
    {
      "cell_type": "markdown",
      "metadata": {
        "colab_type": "text",
        "id": "rlx56nQtfe8Y"
      },
      "source": [
        "\n",
        "\n",
        "\n",
        "\n",
        "\n",
        "## Feature extraction\n"
      ]
    },
    {
      "cell_type": "markdown",
      "metadata": {
        "colab_type": "text",
        "id": "CnMLieHBCwil"
      },
      "source": [
        "### Freeze the convolutional base\n",
        "\n"
      ]
    },
    {
      "cell_type": "code",
      "metadata": {
        "colab_type": "code",
        "id": "OTCJH4bphOeo",
        "colab": {}
      },
      "source": [
        "base_model.trainable = False"
      ],
      "execution_count": 0,
      "outputs": []
    },
    {
      "cell_type": "markdown",
      "metadata": {
        "colab_type": "text",
        "id": "wdMRM8YModbk"
      },
      "source": [
        "### Add a classification head"
      ]
    },
    {
      "cell_type": "code",
      "metadata": {
        "colab_type": "code",
        "id": "eApvroIyn1K0",
        "colab": {}
      },
      "source": [
        "model = models.Sequential()\n",
        "model.add(base_model)\n",
        "model.add(layers.GlobalAveragePooling2D())\n",
        "model.add(layers.Dense(512,activation=\"relu\"))\n",
        "model.add(layers.Dense(1))asdf\b\b\b\b\n",
        "model.summary()\n"
      ],
      "execution_count": 0,
      "outputs": []
    },
    {
      "cell_type": "markdown",
      "metadata": {
        "colab_type": "text",
        "id": "g0ylJXE_kRLi"
      },
      "source": [
        "### Compile the model\n",
        "\n"
      ]
    },
    {
      "cell_type": "markdown",
      "metadata": {
        "id": "0bEYTQoJDuHn",
        "colab_type": "text"
      },
      "source": [
        "\n",
        "\n",
        "1.   List item\n",
        "2.   List item\n",
        "\n"
      ]
    },
    {
      "cell_type": "code",
      "metadata": {
        "colab_type": "code",
        "id": "RpR8HdyMhukJ",
        "colab": {}
      },
      "source": [
        "base_learning_rate = 0.0001\n",
        "model.compile(optimizer=tf.keras.optimizers.RMSprop(lr=base_learning_rate),\n",
        "              loss=tf.keras.losses.BinaryCrossentropy(from_logits=True),\n",
        "              metrics=['accuracy'])"
      ],
      "execution_count": 0,
      "outputs": []
    },
    {
      "cell_type": "markdown",
      "metadata": {
        "id": "4xHK4qrhthzX",
        "colab_type": "text"
      },
      "source": [
        ""
      ]
    },
    {
      "cell_type": "markdown",
      "metadata": {
        "colab_type": "text",
        "id": "RxvgOYTDSWTx"
      },
      "source": [
        "### Train the model\n"
      ]
    },
    {
      "cell_type": "code",
      "metadata": {
        "colab_type": "code",
        "id": "Om4O3EESkab1",
        "colab": {}
      },
      "source": [
        "initial_epochs = 12\n",
        "validation_steps=20\n"
      ],
      "execution_count": 0,
      "outputs": []
    },
    {
      "cell_type": "code",
      "metadata": {
        "colab_type": "code",
        "id": "JsaRFlZ9B6WK",
        "colab": {}
      },
      "source": [
        "history = model.fit(train_batches,\n",
        "                    epochs=initial_epochs,\n",
        "                    validation_data=test_batches )"
      ],
      "execution_count": 0,
      "outputs": []
    },
    {
      "cell_type": "code",
      "metadata": {
        "id": "FkQ_m7zKsz75",
        "colab_type": "code",
        "colab": {}
      },
      "source": [
        "show_performance(history)\n"
      ],
      "execution_count": 0,
      "outputs": []
    },
    {
      "cell_type": "markdown",
      "metadata": {
        "id": "lUZKfaLd_zBl",
        "colab_type": "text"
      },
      "source": [
        "### Evaluate base model"
      ]
    },
    {
      "cell_type": "markdown",
      "metadata": {
        "id": "yasd8gc7AAoH",
        "colab_type": "text"
      },
      "source": [
        ""
      ]
    },
    {
      "cell_type": "code",
      "metadata": {
        "id": "Qu377VRS_xmq",
        "colab_type": "code",
        "colab": {}
      },
      "source": [
        "eval =  model.evaluate(validation_batches)"
      ],
      "execution_count": 0,
      "outputs": []
    },
    {
      "cell_type": "markdown",
      "metadata": {
        "id": "uKADeXv7AOKd",
        "colab_type": "text"
      },
      "source": [
        "### Base model performance"
      ]
    },
    {
      "cell_type": "code",
      "metadata": {
        "id": "WfA9GZFVAJhU",
        "colab_type": "code",
        "colab": {}
      },
      "source": [
        "show_performance(history)"
      ],
      "execution_count": 0,
      "outputs": []
    },
    {
      "cell_type": "code",
      "metadata": {
        "id": "HDmLBYdAKUEB",
        "colab_type": "code",
        "colab": {}
      },
      "source": [
        "\n",
        "\n",
        "y_pred=model.predict(test_batches)\n",
        "image,labels =  next(iter(raw_test.take(len(y_pred))))\n",
        "\n",
        "#con_mat = tf.math.confusion_matrix(labels=labels, predictions= (y_pred > 0.5).astype(int)).numpy()\n",
        "\n",
        "#show_conf_matrix(con_mat)\n",
        "\n"
      ],
      "execution_count": 0,
      "outputs": []
    },
    {
      "cell_type": "code",
      "metadata": {
        "id": "UzSL6jqvPSRZ",
        "colab_type": "code",
        "colab": {}
      },
      "source": [
        " model.save('base_transfer_model.h5')"
      ],
      "execution_count": 0,
      "outputs": []
    },
    {
      "cell_type": "code",
      "metadata": {
        "id": "iIMb3FPsSDOC",
        "colab_type": "code",
        "colab": {}
      },
      "source": [
        "import os\n",
        "os.path.getsize('base_transfer_model.h5')/(1024*1024)"
      ],
      "execution_count": 0,
      "outputs": []
    },
    {
      "cell_type": "markdown",
      "metadata": {
        "id": "789lGKD3Ep_g",
        "colab_type": "text"
      },
      "source": [
        "####Discussion\n",
        "As seen from the performance chart the overall accuracy looks good, however model needs serious fin tuning to eliminate overfitting. "
      ]
    },
    {
      "cell_type": "code",
      "metadata": {
        "id": "TQI_R4SDFItx",
        "colab_type": "code",
        "colab": {}
      },
      "source": [
        "eval"
      ],
      "execution_count": 0,
      "outputs": []
    },
    {
      "cell_type": "code",
      "metadata": {
        "colab_type": "code",
        "id": "53OTCh3jnbwV",
        "colab": {}
      },
      "source": [
        ""
      ],
      "execution_count": 0,
      "outputs": []
    },
    {
      "cell_type": "markdown",
      "metadata": {
        "id": "WVQ9gqv0I11R",
        "colab_type": "text"
      },
      "source": [
        "### Show sample misclassified items"
      ]
    },
    {
      "cell_type": "code",
      "metadata": {
        "id": "S8VGUr-ZI6MA",
        "colab_type": "code",
        "colab": {}
      },
      "source": [
        "import matplotlib.image as mpimg\n",
        "image,labels =  next(iter(test_batches))\n",
        "pred = model.predict(image)\n",
        "\n",
        "# CatasDog = df['filename'][(df.y==0)&(df.y_pred==1)]\n",
        "# fig=plt.figure(figsize=(15, 6))\n",
        "# columns = 7\n",
        "# rows = 3\n",
        "# for i in range(columns*rows):\n",
        "#     #img = mpimg.imread()\n",
        "#     img = image.load_img('test/'+CatasDog.iloc[i], target_size=(64, 64))\n",
        "#     fig.add_subplot(rows, columns, i+1)\n",
        "#     plt.imshow(img)\n",
        "\n",
        "# plt.show()"
      ],
      "execution_count": 0,
      "outputs": []
    },
    {
      "cell_type": "code",
      "metadata": {
        "id": "21P96J5hM74k",
        "colab_type": "code",
        "colab": {}
      },
      "source": [
        ""
      ],
      "execution_count": 0,
      "outputs": []
    },
    {
      "cell_type": "markdown",
      "metadata": {
        "id": "4HARVWSVFs_e",
        "colab_type": "text"
      },
      "source": [
        "### Show feature maps with applied filters for random image"
      ]
    },
    {
      "cell_type": "code",
      "metadata": {
        "id": "nD1N3pR2nLVT",
        "colab_type": "code",
        "colab": {}
      },
      "source": [
        "for image,label in test.shuffle(1000).take(1):\n",
        "    pass\n",
        "img = expand_dims(image, axis=0)    \n",
        "print(img.shape)\n",
        "show_maps(base_model,img, [2,8,34,65,78])\n",
        "\n",
        "\n"
      ],
      "execution_count": 0,
      "outputs": []
    },
    {
      "cell_type": "markdown",
      "metadata": {
        "colab_type": "text",
        "id": "CqwV-CRdS6Nv"
      },
      "source": [
        "## Fine tuning\n"
      ]
    },
    {
      "cell_type": "markdown",
      "metadata": {
        "colab_type": "text",
        "id": "CPXnzUK0QonF"
      },
      "source": [
        "### Un-freeze the top layers of the model\n"
      ]
    },
    {
      "cell_type": "markdown",
      "metadata": {
        "id": "f3hV8qliMTYg",
        "colab_type": "text"
      },
      "source": [
        "#### Number of layers in base model"
      ]
    },
    {
      "cell_type": "code",
      "metadata": {
        "id": "swIMOvcDMXJj",
        "colab_type": "code",
        "colab": {}
      },
      "source": [
        "len(base_model.layers)"
      ],
      "execution_count": 0,
      "outputs": []
    },
    {
      "cell_type": "code",
      "metadata": {
        "id": "HUqNp7Pfdvh9",
        "colab_type": "code",
        "colab": {}
      },
      "source": [
        "base_model.layers[84]"
      ],
      "execution_count": 0,
      "outputs": []
    },
    {
      "cell_type": "code",
      "metadata": {
        "colab_type": "code",
        "id": "4nzcagVitLQm",
        "colab": {}
      },
      "source": [
        "base_model.trainable = True"
      ],
      "execution_count": 0,
      "outputs": []
    },
    {
      "cell_type": "code",
      "metadata": {
        "id": "Z7rCDe6qasQv",
        "colab_type": "code",
        "colab": {}
      },
      "source": [
        "index = 0\n",
        "for layer in base_model.layers:\n",
        "  print(index)\n",
        "  print(layer.name)\n",
        "  index+=1"
      ],
      "execution_count": 0,
      "outputs": []
    },
    {
      "cell_type": "code",
      "metadata": {
        "colab_type": "code",
        "id": "-4HgVAacRs5v",
        "colab": {}
      },
      "source": [
        "\n",
        "# Fine-tune from this layer onwards\n",
        "fine_tune_at = 50\n",
        "\n",
        "# Freeze all the layers before the `fine_tune_at` layer\n",
        "for layer in base_model.layers[:fine_tune_at]:\n",
        "  layer.trainable =  False"
      ],
      "execution_count": 0,
      "outputs": []
    },
    {
      "cell_type": "markdown",
      "metadata": {
        "colab_type": "text",
        "id": "4Uk1dgsxT0IS"
      },
      "source": [
        "### Compile the model\n",
        "\n",
        "Compile the model using lower learning rate."
      ]
    },
    {
      "cell_type": "code",
      "metadata": {
        "colab_type": "code",
        "id": "NtUnaz0WUDva",
        "colab": {}
      },
      "source": [
        "model.compile(optimizer=tf.keras.optimizers.RMSprop(lr=base_learning_rate/10),\n",
        "              loss=tf.keras.losses.BinaryCrossentropy(from_logits=True),\n",
        "              metrics=['accuracy'])\n",
        "model.summary()\n",
        "fine_tune_epochs = 10\n",
        "total_epochs =  initial_epochs + fine_tune_epochs\n",
        "\n",
        "history_fine = model.fit(train_batches,\n",
        "                         epochs=total_epochs,\n",
        "                         initial_epoch =  history.epoch[-1],\n",
        "                         validation_data=test_batches)"
      ],
      "execution_count": 0,
      "outputs": []
    },
    {
      "cell_type": "code",
      "metadata": {
        "colab_type": "code",
        "id": "WwBWy7J2kZvA",
        "colab": {}
      },
      "source": [
        ""
      ],
      "execution_count": 0,
      "outputs": []
    },
    {
      "cell_type": "code",
      "metadata": {
        "colab_type": "code",
        "id": "ECQLkAsFTlun",
        "colab": {}
      },
      "source": [
        ""
      ],
      "execution_count": 0,
      "outputs": []
    },
    {
      "cell_type": "code",
      "metadata": {
        "id": "e5y6tfzzbtoD",
        "colab_type": "code",
        "colab": {}
      },
      "source": [
        "show_performance(history_fine)"
      ],
      "execution_count": 0,
      "outputs": []
    },
    {
      "cell_type": "markdown",
      "metadata": {
        "id": "bS-0tmelb2Ee",
        "colab_type": "text"
      },
      "source": [
        "#### Accuracy does not improve as the loss\n",
        "\n",
        "\n",
        "\n"
      ]
    },
    {
      "cell_type": "markdown",
      "metadata": {
        "id": "d9x0MaImcGJ6",
        "colab_type": "text"
      },
      "source": [
        "## Model HyperParameters tuning  \n",
        "Let's check if regularization techniques and droput works. Another option could be adding momentum. Use tensorflow gridsearch analog: hp library\n",
        "Search through optimizers, regularization parameters and dropout values \n"
      ]
    },
    {
      "cell_type": "code",
      "metadata": {
        "id": "ypcmcpLXb9dY",
        "colab_type": "code",
        "colab": {}
      },
      "source": [
        "from tensorboard.plugins.hparams import api as hp\n",
        "\n",
        "\n",
        "HP_DROPOUT = hp.HParam('dropout', hp.RealInterval(0.2, 0.5))\n",
        "HP_EPOCHS = hp.HParam('epoch', hp.Discrete([10,20,30,40]))\n",
        "HP_OPTIMIZER = hp.HParam('optimizer', hp.Discrete(['adam', 'sgd','RMSprop']))\n",
        "HP_L2 = hp.HParam('l2 regularizer', hp.RealInterval(.001,.01))\n",
        "METRIC_ACCURACY = 'accuracy'\n",
        "\n",
        "with tf.summary.create_file_writer('logs/hparam_tuning').as_default():\n",
        "  hp.hparams_config(\n",
        "    hparams=[HP_DROPOUT,HP_L2 ,HP_OPTIMIZER],\n",
        "    metrics=[hp.Metric(METRIC_ACCURACY, display_name='Accuracy')],\n",
        "  )\n",
        "\n",
        "\n",
        "\n",
        "def train_test_model(hparams):\n",
        "  model = tf.keras.Sequential([\n",
        "        base_model,\n",
        "        tf.keras.layers.GlobalAveragePooling2D(),\n",
        "        keras.layers.Dense(64,kernel_regularizer=tf.keras.regularizers.l2(hparams[HP_L2])),\n",
        "        keras.layers.Dropout(hparams[HP_DROPOUT]),\n",
        "        keras.layers.Dense(1,activation='sigmoid')\n",
        "      ])\n",
        "\n",
        "\n",
        "\n",
        "  model.compile(optimizer=hparams[HP_OPTIMIZER],\n",
        "                  loss=tf.keras.losses.BinaryCrossentropy(from_logits=True),\n",
        "                  metrics=['accuracy'])\n",
        "\n",
        "  model.fit(train_batches,\n",
        "            validation_data=test_batches,\n",
        "            epochs=8)\n",
        "  _, accuracy = model.evaluate(validation_batches)\n",
        "  return accuracy\n",
        "\n",
        "def run(dir,hparams):\n",
        "  with tf.summary.create_file_writer(dir).as_default():\n",
        "    hp.hparams(hparams)  # record the values used in this trial\n",
        "    accuracy = train_test_model(hparams)\n",
        "    tf.summary.scalar(METRIC_ACCURACY, accuracy, step=1)\n",
        "\n",
        "\n",
        "\n",
        "\n",
        "session_num = 0\n",
        "# for dropout_rate in (HP_DROPOUT.domain.min_value, HP_DROPOUT.domain.max_value):\n",
        "#       for l2 in (HP_L2.domain.min_value, HP_L2.domain.max_value):\n",
        "#         for optimizer in HP_OPTIMIZER.domain.values:\n",
        "          \n",
        "#           hparams = {\n",
        "#               HP_DROPOUT: dropout_rate,\n",
        "#               HP_L2: l2,\n",
        "#               HP_OPTIMIZER: optimizer\n",
        "              \n",
        "#           }\n",
        "#           run_name = \"run-%d\" % session_num\n",
        "#           print('--- Starting trial: %s' % run_name)\n",
        "#           print({h.name: hparams[h] for h in hparams})\n",
        "#           run('logs/hparam_tuning/' + run_name, hparams)\n",
        "#           session_num += 1\n"
      ],
      "execution_count": 0,
      "outputs": []
    },
    {
      "cell_type": "code",
      "metadata": {
        "id": "FPnLG65JyNUL",
        "colab_type": "code",
        "colab": {}
      },
      "source": [
        "model = tf.keras.Sequential([\n",
        "        base_model,\n",
        "        tf.keras.layers.GlobalMaxPooling2D(),\n",
        "        tf.keras.layers.Dense(512,kernel_regularizer=tf.keras.regularizers.l2(0.07)),\n",
        "        keras.layers.Dropout(0.5),\n",
        "        keras.layers.Dense(1)\n",
        "      ])\n",
        "\n",
        "\n",
        "model.compile(optimizer=tf.keras.optimizers.RMSprop(lr=0.000001,momentum=0.06),\n",
        "                  loss=\"binary_crossentropy\",\n",
        "                  metrics=['accuracy'])\n",
        "history_1 = model.fit(train_batches,\n",
        "                         epochs=20,\n",
        "                         validation_data=test_batches)"
      ],
      "execution_count": 0,
      "outputs": []
    },
    {
      "cell_type": "markdown",
      "metadata": {
        "id": "JliGyMBqa7wR",
        "colab_type": "text"
      },
      "source": [
        "## Data augmentation \n",
        "Let's check if model accuracy could be improved with image augmentation treaks\n",
        "\n",
        "\n"
      ]
    },
    {
      "cell_type": "code",
      "metadata": {
        "id": "KibN2e3FbQYS",
        "colab_type": "code",
        "colab": {}
      },
      "source": [
        "def tr_format(image, label):\n",
        "  image = tf.cast(image, tf.float32)\n",
        "  image = (image/255)\n",
        "  image = tf.image.resize(image, (IMG_SIZE, IMG_SIZE))\n",
        "  image = tf.image.random_flip_up_down(image)\n",
        "  image = tf.image.random_crop(image,[90,90,3])\n",
        "  return image, label\n",
        " "
      ],
      "execution_count": 0,
      "outputs": []
    },
    {
      "cell_type": "code",
      "metadata": {
        "id": "CzFvrfk6bsdj",
        "colab_type": "code",
        "colab": {}
      },
      "source": [
        "train = raw_train.map(tr_format)\n",
        "train_batches = train.shuffle(SHUFFLE_BUFFER_SIZE).batch(BATCH_SIZE)\n",
        "history = model.fit(train_batches,\n",
        "                    epochs=40,\n",
        "                    validation_data=test_batches )\n",
        "\n"
      ],
      "execution_count": 0,
      "outputs": []
    },
    {
      "cell_type": "markdown",
      "metadata": {
        "id": "L1nDYX80bUXm",
        "colab_type": "text"
      },
      "source": [
        "### Compare MobileNet best model performance with ResNet \n",
        "According to papers , ResNet has the best performance in this problem\n"
      ]
    },
    {
      "cell_type": "code",
      "metadata": {
        "id": "VkRUS_IpboE4",
        "colab_type": "code",
        "colab": {}
      },
      "source": [
        "IMG_SHAPE = (IMG_SIZE, IMG_SIZE, 3)\n",
        "\n",
        "# Create the base model from the pre-trained model ResNet\n",
        "resnet = tf.keras.applications.ResNet152V2(input_shape=IMG_SHAPE,\n",
        "                                               include_top=False,\n",
        "                                               weights='imagenet')\n",
        "\n",
        "resnet.trainable = False\n",
        "\n",
        "\n",
        "model = tf.keras.Sequential([\n",
        "        resnet,\n",
        "        tf.keras.layers.GlobalMaxPooling2D(),\n",
        "        keras.layers.Dense(60, activation = 'relu'),\n",
        "        keras.layers.Dropout(0.2),\n",
        "        keras.layers.Dense(1,activation='sigmoid')\n",
        "      ])\n",
        "\n",
        "\n",
        "model.compile(optimizer=tf.keras.optimizers.RMSprop(lr=0.0001,momentum= 0.05),\n",
        "                  loss=\"binary_crossentropy\",\n",
        "                  metrics=['accuracy'])\n",
        "history_1 = model.fit(train_batches,\n",
        "                         epochs=20,\n",
        "                         validation_data=test_batches)"
      ],
      "execution_count": 0,
      "outputs": []
    }
  ]
}